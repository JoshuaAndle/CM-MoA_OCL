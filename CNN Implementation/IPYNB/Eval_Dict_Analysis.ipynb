{
  "nbformat": 4,
  "nbformat_minor": 0,
  "metadata": {
    "colab": {
      "provenance": []
    },
    "kernelspec": {
      "name": "python3",
      "display_name": "Python 3"
    },
    "language_info": {
      "name": "python"
    }
  },
  "cells": [
    {
      "cell_type": "code",
      "execution_count": null,
      "metadata": {
        "id": "t7DmDyfU6NHA"
      },
      "outputs": [],
      "source": [
        "from google.colab import drive\n",
        "drive.mount('/content/drive', force_remount=True)\n",
        "%cd './drive/My Drive/CVPR 16682/src'"
      ]
    },
    {
      "cell_type": "code",
      "source": [
        "import torch\n",
        "import numpy as np\n",
        "import torch.nn as nn\n",
        "import numpy as np\n",
        "from scipy.stats import gaussian_kde\n",
        "import os\n",
        "from os.path import exists\n",
        "import copy\n",
        "import math"
      ],
      "metadata": {
        "id": "b8XEYm7M9a_k"
      },
      "execution_count": 2,
      "outputs": []
    },
    {
      "cell_type": "code",
      "source": [
        "!pip install torchnet"
      ],
      "metadata": {
        "id": "X1DY7YCfKC3F"
      },
      "execution_count": 3,
      "outputs": []
    },
    {
      "cell_type": "code",
      "source": [
        "### For baseline method defaults\n",
        "sparsity, mergedsparsity = 0.65, 0.3\n",
        "clusternum, maxsubnets, unusedthreshold = 3, 5, 8\n",
        "\n",
        "### For replay-only defaults\n",
        "# clusternum, maxsubnets, unusedthreshold = 1, 1, 8\n",
        "# sparsity, mergedsparsity = 0.001, 0.001\n",
        "\n",
        "### For pruning-only defaults\n",
        "# sparsity, mergedsparsity = 0.65, 0.3\n",
        "# clusternum, maxsubnets, unusedthreshold = 3, 100, 100\n",
        "\n",
        "lr=0.1\n",
        "onlineepochs, trainepochs, ftepochs = 20,10,20\n",
        "\n",
        "run_id = \"run-000\"\n",
        "\n",
        "arch = \"modresnet18\"\n",
        "# arch = \"vgg16\"\n",
        "\n",
        "# dataset, finaltask = \"online_cifar_rotmnist\", 22\n",
        "# dataset, finaltask = \"online_cifar_jump20rotmnist\", 19\n",
        "# dataset, finaltask = \"online_cifar_jump30rotmnist\", 18\n",
        "dataset, finaltask = \"online_mixed_cifar_pmnist\", 27\n",
        "\n",
        "basepath = os.path.join(\"../checkpoints/\", str(dataset), (str(sparsity) + \"_\" + str(mergedsparsity)), (str(clusternum) + '_' + str(maxsubnets) + \"_\" + str(unusedthreshold)), str(arch), str(run_id), str(lr))\n",
        "finalpath = os.path.join(basepath,str(finaltask),\"final.pt\")\n",
        "\n",
        "finalckpt = torch.load(finalpath, map_location=torch.device('cpu'))\n",
        "print(basepath)"
      ],
      "metadata": {
        "id": "QUfaRqob6O1a"
      },
      "execution_count": null,
      "outputs": []
    },
    {
      "cell_type": "code",
      "source": [
        "manager = finalckpt['manager']\n",
        "evaldicts = manager.eval_dicts\n",
        "olaccs,netcap,trtimes,oldtasks = evaldicts['onlineaccs'], evaldicts['overall_capacity'], evaldicts['training_times'], evaldicts['identifiedtasks']\n",
        "newtasks,mergehist,idacchist,accthreshhist,tasksbyset = evaldicts['newdistributions'], evaldicts['mergehistory'], evaldicts['ID_ACCS_history'], evaldicts['ACCthresholds_history'], evaldicts['tasks_by_set']"
      ],
      "metadata": {
        "id": "X3L-WuyqQvHm"
      },
      "execution_count": 36,
      "outputs": []
    },
    {
      "cell_type": "code",
      "source": [
        "print(manager.FLOPcounts)"
      ],
      "metadata": {
        "id": "8sbkNREBSK1x",
        "outputId": "6f0e9b03-89fa-459d-a0f9-9381c0874950",
        "colab": {
          "base_uri": "https://localhost:8080/"
        }
      },
      "execution_count": 37,
      "outputs": [
        {
          "output_type": "stream",
          "name": "stdout",
          "text": [
            "{'inference': 430200815616, 'training': 122300006400000, 'retraining': 0}\n"
          ]
        }
      ]
    },
    {
      "cell_type": "markdown",
      "source": [
        "Zip Task Identification History and Store Capacity, Runtime, and Accuracies"
      ],
      "metadata": {
        "id": "lQQJ_8a6wjNB"
      }
    },
    {
      "cell_type": "code",
      "source": [
        "taskidbyset, bufferbyset, buffersizebyset, caps, totals,aves, times = {}, {}, {}, [], [], [], []\n",
        "for key in olaccs.keys():\n",
        "  if len(times) == 0:\n",
        "    times.append(trtimes[key])\n",
        "  else:\n",
        "    times.append(trtimes[key]-trtimes[key-1])\n",
        "\n",
        "  totals.append(torch.mean(torch.tensor(olaccs[key])))\n",
        "  aves.append(torch.mean(torch.tensor(totals)))\n",
        "\n",
        "  taskcap = []\n",
        "  if len(list(netcap.keys())) > 0:\n",
        "    for key2 in netcap[key]:\n",
        "      taskcap.append(netcap[key][key2])\n",
        "    caps.append(torch.tensor(1)-torch.mean(torch.tensor(taskcap)))\n",
        "\n",
        "  if key in list(newtasks.keys()):\n",
        "    taskidbyset[key] = newtasks[key]\n",
        "  else:\n",
        "    taskidbyset[key] = oldtasks[key]"
      ],
      "metadata": {
        "id": "LsYzLEDkwiSG"
      },
      "execution_count": 7,
      "outputs": []
    },
    {
      "cell_type": "code",
      "source": [],
      "metadata": {
        "id": "rm0cKmTnDuNO"
      },
      "execution_count": null,
      "outputs": []
    },
    {
      "cell_type": "code",
      "source": [
        "### Dont use oracle for rotMNIST, since theres no definitive answer to whether a shift is a new task or not\n",
        "taskIDoracle = None\n",
        "rotID = {}\n",
        "rotTasks = []\n",
        "\n",
        "if dataset == \"online_mixed_cifar_pmnist\":\n",
        "  if unusedthreshold == 8:\n",
        "    taskIDoracle  = [0,1,2,3,4,5,6,7,8,9,1,2,12,4,5,15,7,8,18,1,2,21,4,5,24,7,8,27]\n",
        "  elif unusedthreshold >= 30:\n",
        "    taskIDoracle  = [0,1,2,3,4,5,6,7,8,9,1,2,12,4,5,15,7,8,18,1,2,21,4,5,24,7,8,27]\n",
        "\n",
        "if dataset == \"online_cifar_rotmnist\":\n",
        "  rotID = {0: (taskidbyset[2]), 1:(taskidbyset[5]), 2:(taskidbyset[8]), 3:(taskidbyset[11]), 4:(taskidbyset[14]), 5:(taskidbyset[17]), 6: (taskidbyset[20])}\n",
        "  rotTasks = [2,5,8,11,14,17,20]\n",
        "elif dataset == \"online_cifar_jump20rotmnist\":\n",
        "  rotID = {0: (taskidbyset[2]), 1:-1, 2:(taskidbyset[7]), 3:-1, 4:(taskidbyset[12]), 5:-1, 6: (taskidbyset[17])}\n",
        "  rotTasks = [2,-1,7,-1,12,-1,17]\n",
        "elif dataset == \"online_cifar_jump30rotmnist\":\n",
        "  rotID = {0: (taskidbyset[2]), 1:-1, 2:-1, 3:(taskidbyset[9]), 4:-1, 5:-1, 6: (taskidbyset[16])}\n",
        "  rotTasks = [2,-1,-1,9,-1,-1,16]"
      ],
      "metadata": {
        "id": "cYtyhDXLyc1W"
      },
      "execution_count": 95,
      "outputs": []
    },
    {
      "cell_type": "code",
      "source": [
        "taskidbyset"
      ],
      "metadata": {
        "id": "K3e3tMHfK-Wq"
      },
      "execution_count": null,
      "outputs": []
    },
    {
      "cell_type": "markdown",
      "source": [
        "Store the resulting processed dictionaries and lists"
      ],
      "metadata": {
        "id": "_U045mU_Fnn1"
      }
    },
    {
      "cell_type": "code",
      "source": [
        "processedEvals = {'rotID':rotID, 'rotTasks':rotTasks, 'taskOracle':taskIDoracle, 'bufferbyset':bufferbyset,'buffersizebyset':buffersizebyset,'taskIDbyset':taskidbyset, 'capacity':caps, 'meanaccbyset':totals, 'runningmeanacc':aves, 'runtimes':times}"
      ],
      "metadata": {
        "id": "xpKDwhWBwiKi"
      },
      "execution_count": 96,
      "outputs": []
    },
    {
      "cell_type": "code",
      "source": [
        "torch.save(processedEvals, (basepath + \"/processedEval.pt\"))"
      ],
      "metadata": {
        "id": "_JphaiDuFriA"
      },
      "execution_count": 97,
      "outputs": []
    },
    {
      "cell_type": "markdown",
      "source": [
        "# Assess processed measures"
      ],
      "metadata": {
        "id": "D3EuWVk2H-N0"
      }
    },
    {
      "cell_type": "code",
      "source": [
        "print(buffersizebyset.keys())\n",
        "print(buffersizebyset.values())"
      ],
      "metadata": {
        "colab": {
          "base_uri": "https://localhost:8080/"
        },
        "id": "JODOiKR0tCs1",
        "outputId": "47be759d-27da-42a3-8cba-45fec87293d8"
      },
      "execution_count": 47,
      "outputs": [
        {
          "output_type": "stream",
          "name": "stdout",
          "text": [
            "dict_keys([])\n",
            "dict_values([])\n"
          ]
        }
      ]
    },
    {
      "cell_type": "code",
      "source": [
        "for i in range(len(aves)):\n",
        "  aves[i] = aves[i].tolist()\n",
        "print(aves)"
      ],
      "metadata": {
        "colab": {
          "base_uri": "https://localhost:8080/"
        },
        "id": "j5NvDZtdj7Aq",
        "outputId": "546a130a-8638-4c4c-d7e2-95d2986c1ac2"
      },
      "execution_count": 99,
      "outputs": [
        {
          "output_type": "stream",
          "name": "stdout",
          "text": [
            "[41.98381805419922, 57.50537872314453, 62.368194580078125, 54.43927001953125, 57.06584548950195, 57.46219253540039, 55.144920349121094, 56.73997497558594, 57.14055633544922, 55.235015869140625, 56.538475036621094, 56.59322738647461, 55.304744720458984, 56.244510650634766, 56.619102478027344, 55.59595489501953, 56.13396072387695, 56.37455749511719, 55.543792724609375, 56.10847854614258, 56.48528289794922, 55.48893737792969, 56.11225128173828, 56.53421401977539, 55.603668212890625, 55.69459533691406, 56.310333251953125, 55.563316345214844]\n"
          ]
        }
      ]
    },
    {
      "cell_type": "code",
      "source": [
        "for i in range(len(caps)):\n",
        "  caps[i] = caps[i].tolist()\n",
        "print(caps)"
      ],
      "metadata": {
        "colab": {
          "base_uri": "https://localhost:8080/"
        },
        "id": "_7jnry5ulCWW",
        "outputId": "86d8a553-b58c-484a-bde6-253f7008e603"
      },
      "execution_count": 90,
      "outputs": [
        {
          "output_type": "stream",
          "name": "stdout",
          "text": [
            "[0.6510937213897705, 0.421875, 0.27562499046325684, 0.18140625953674316, 0.11890625953674316, 0.3253124952316284, 0.21265625953674316, 0.13875001668930054, 0.34843748807907104, 0.22484374046325684, 0.22484374046325684, 0.22484374046325684, 0.14625000953674316, 0.32999998331069946, 0.32999998331069946, 0.2149999737739563, 0.2149999737739563, 0.140625, 0.32859373092651367, 0.32859373092651367, 0.32859373092651367, 0.2149999737739563, 0.2149999737739563, 0.2149999737739563, 0.140625, 0.140625, 0.140625, 0.34937500953674316]\n"
          ]
        }
      ]
    },
    {
      "cell_type": "code",
      "source": [
        "print(times)"
      ],
      "metadata": {
        "colab": {
          "base_uri": "https://localhost:8080/"
        },
        "id": "sB6Dgsrwx0ZK",
        "outputId": "c433eccf-81b5-4473-9192-68b2213b4439"
      },
      "execution_count": 91,
      "outputs": [
        {
          "output_type": "stream",
          "name": "stdout",
          "text": [
            "[8.353816032409668, 9.859452962875366, 9.368222713470459, 8.201166152954102, 9.511569261550903, 43.2906129360199, 8.27520489692688, 9.656780242919922, 68.54375004768372, 8.364223718643188, 33.52402377128601, 33.523252964019775, 8.43705940246582, 71.5902190208435, 7.254626989364624, 8.557373046875, 49.568071365356445, 10.02517557144165, 81.248943567276, 65.75788760185242, 65.58712148666382, 8.657265663146973, 65.7698724269867, 7.094752550125122, 8.732950448989868, 65.60110592842102, 65.87219476699829, 104.8391842842102]\n"
          ]
        }
      ]
    }
  ]
}