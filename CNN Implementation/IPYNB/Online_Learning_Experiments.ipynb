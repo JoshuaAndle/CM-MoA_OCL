{
  "cells": [
    {
      "cell_type": "code",
      "execution_count": null,
      "metadata": {
        "id": "LpoK86qd0iOK"
      },
      "outputs": [],
      "source": [
        "from google.colab import drive\n",
        "drive.mount('/content/drive', force_remount=True)\n",
        "%cd './drive/My Drive/CVPR 16682/src'"
      ]
    },
    {
      "cell_type": "code",
      "execution_count": null,
      "metadata": {
        "id": "OlEU4Yk82bBO"
      },
      "outputs": [],
      "source": [
        "!pip install torchnet"
      ]
    },
    {
      "cell_type": "markdown",
      "source": [
        "Proposed Framework of Subnetwork Replay"
      ],
      "metadata": {
        "id": "ErsjKqSWkdqU"
      }
    },
    {
      "cell_type": "code",
      "execution_count": null,
      "metadata": {
        "id": "uRaySOodgKRn"
      },
      "outputs": [],
      "source": [
        "run_id = \"run-000\"\n",
        "\n",
        "arch = \"modresnet18\"\n",
        "# arch = \"vgg16\"\n",
        "\n",
        "### OMCP\n",
        "dataset = \"online_mixed_cifar_pmnist\"\n",
        "\n",
        "### OMCPR, OMCPR-20, OMCPR-30\n",
        "# dataset = \"online_cifar_rotmnist\"\n",
        "# dataset = \"online_cifar_jump20rotmnist\"\n",
        "# dataset = \"online_cifar_jump30rotmnist\"\n",
        "\n",
        "### Default settings\n",
        "sparsity, mergedsparsity = 0.65, 0.3\n",
        "batchsize, offlinebatchsize, buffernum, setsize = 512, 512, 100, 5000\n",
        "thresholdwindow, prune_batch = 6, 3\n",
        "onlineepochs, trainepochs, ftepochs = 20,10,20\n",
        "clusternum, maxsubnets, unusedthreshold = 3, 5, 8\n",
        "lr=0.1\n",
        "\n",
        "logpath = (\"./logs/SM/\" + dataset + \"/\" + str(sparsity) + \"_\" +  str(mergedsparsity) + \"/\" +  str(clusternum) + \"_\" +  str(maxsubnets) + \"_\" +  str(unusedthreshold) + \"/\" +  str(buffernum) \\\n",
        "          + \"/\" + arch + \"/\" + str(lr) + \"/\" + run_id + \"/\")\n",
        "\n",
        "!mkdir -p $logpath\n",
        "logfile = (logpath + \"log.txt\")\n",
        "!touch $logfile\n",
        "\n",
        "### Note: Manual_share_task needs to be \"0 1\" for sharenum=\"both\", or \"0\" for sharenum=\"0\" and \"1\" for sharenum=\"1\"\n",
        "!python \"main online.py\" --arch=$arch --dataset=$dataset --run_id=$run_id --set_num=0 \\\n",
        "--prune_perc_per_layer=$sparsity --merged_prune_perc_per_layer=$mergedsparsity --train_epochs=$trainepochs --finetune_epochs=$ftepochs --online_epochs=$onlineepochs \\\n",
        "--buffernum=$buffernum --batch_size=$batchsize --offline_batch_size=$offlinebatchsize --unusedthreshold=$unusedthreshold \\\n",
        "--clusterNum=$clusternum --maxSubnets=$maxsubnets --prune_batch=$prune_batch --thresholdwindow=$thresholdwindow --lr=$lr --setsize=$setsize | tee $logfile"
      ]
    },
    {
      "cell_type": "markdown",
      "source": [
        "Online Replay-only Method"
      ],
      "metadata": {
        "id": "V0eFT0u-kbRF"
      }
    },
    {
      "cell_type": "code",
      "source": [
        "run_id = \"run-000\"\n",
        "\n",
        "arch = \"modresnet18\"\n",
        "# arch = \"vgg16\"\n",
        "\n",
        "\n",
        "# dataset = \"online_mixed_cifar_pmnist\"\n",
        "dataset = \"online_cifar_rotmnist\"\n",
        "# dataset = \"online_cifar_jump20rotmnist\"\n",
        "# dataset = \"online_cifar_jump30rotmnist\"\n",
        "\n",
        "sparsity, mergedsparsity = 0.001, 0.001\n",
        "batchsize, offlinebatchsize, buffernum, setsize = 512, 512, 100, 5000\n",
        "thresholdwindow, prune_batch = 6, 3\n",
        "\n",
        "onlineepochs, trainepochs, ftepochs = 20,10,20\n",
        "clusternum, maxsubnets, unusedthreshold = 1, 1, 8\n",
        "lr=0.1\n",
        "\n",
        "logpath = (\"./logs/SM/\" + dataset + \"/\" + str(sparsity) + \"_\" +  str(mergedsparsity) + \"/\" +  str(clusternum) + \"_\" +  str(maxsubnets) + \"_\" +  str(unusedthreshold) + \"/\" +  str(buffernum) \\\n",
        "          + \"/\" + arch + \"/\" + str(lr) + \"/\" + run_id + \"/\")\n",
        "\n",
        "!mkdir -p $logpath\n",
        "logfile = (logpath + \"log.txt\")\n",
        "!touch $logfile\n",
        "\n",
        "!python \"replay main online.py\" --arch=$arch --mode=\"all\" --dataset=$dataset --run_id=$run_id --task_num=0 \\\n",
        "--prune_perc_per_layer=$sparsity --merged_prune_perc_per_layer=$mergedsparsity --train_epochs=$trainepochs --finetune_epochs=$ftepochs --online_epochs=$onlineepochs \\\n",
        "--buffernum=$buffernum --batch_size=$batchsize --offline_batch_size=$offlinebatchsize --unusedthreshold=$unusedthreshold \\\n",
        "--clusterNum=$clusternum --maxSubnets=$maxsubnets --prune_batch=$prune_batch --thresholdwindow=$thresholdwindow --lr=$lr --setsize=$setsize | tee $logfile"
      ],
      "metadata": {
        "id": "svQ4t6aPjv_r"
      },
      "execution_count": null,
      "outputs": []
    }
  ],
  "metadata": {
    "accelerator": "GPU",
    "colab": {
      "machine_shape": "hm",
      "provenance": [],
      "gpuType": "A100"
    },
    "kernelspec": {
      "display_name": "Python 3",
      "name": "python3"
    },
    "language_info": {
      "name": "python"
    }
  },
  "nbformat": 4,
  "nbformat_minor": 0
}