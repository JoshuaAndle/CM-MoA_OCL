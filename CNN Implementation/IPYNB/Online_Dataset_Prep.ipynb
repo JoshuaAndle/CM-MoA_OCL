{
  "cells": [
    {
      "cell_type": "code",
      "execution_count": null,
      "metadata": {
        "colab": {
          "base_uri": "https://localhost:8080/"
        },
        "id": "1YJf5l9pXyzE",
        "outputId": "ac9b0480-5fcd-45bb-8a18-852766374efd"
      },
      "outputs": [
        {
          "name": "stdout",
          "output_type": "stream",
          "text": [
            "Mounted at /content/drive\n",
            "/content/drive/My Drive/Weight Sharing CL/Paper 2/src\n"
          ]
        }
      ],
      "source": [
        "from google.colab import drive\n",
        "drive.mount('/content/drive', force_remount=True)\n",
        "### Alternatively direct to wherever the code has been stored\n",
        "%cd './drive/My Drive/CVPR_16682/src'"
      ]
    },
    {
      "cell_type": "code",
      "execution_count": null,
      "metadata": {
        "id": "l28z3cICX17E"
      },
      "outputs": [],
      "source": [
        "import torch\n",
        "import numpy as np\n",
        "import torch.nn as nn\n",
        "import os\n",
        "from os.path import exists\n",
        "import math"
      ]
    },
    {
      "cell_type": "code",
      "execution_count": null,
      "metadata": {
        "id": "N9vBpgu3aAnP"
      },
      "outputs": [],
      "source": [
        "### Skipping task 0 which is cifar10 since we don't use it here\n",
        "for i in range(1,10):\n",
        "  Xtr  = torch.load(\"../data/split_cifar/\" + str(i) + \"/x_train.bin\")\n",
        "  Ytr  = torch.load(\"../data/split_cifar/\" + str(i) + \"/y_train.bin\")\n",
        "  Xval = torch.load(\"../data/split_cifar/\" + str(i) + \"/x_valid.bin\")\n",
        "  Yval = torch.load(\"../data/split_cifar/\" + str(i) + \"/y_valid.bin\")\n",
        "\n",
        "  Xtr = torch.cat((Xtr,Xval), dim=0)\n",
        "  Ytr = torch.cat((Ytr,Yval), dim=0)\n",
        "\n",
        "  perm = torch.randperm(Xtr.size()[0])\n",
        "  Xtr = Xtr[perm]\n",
        "  Ytr = Ytr[perm]\n",
        "  path = \"../data/split_cifar/Online/\" + str(i) + \"/\"\n",
        "  os.makedirs(path, exist_ok =True)\n",
        "\n",
        "  ### Split the offline dataset into sets Z_i for online training (we don't use all resulting sets, often only the first 1-3 for a given task so we cap it to saving 15 sets per task)\n",
        "  for i in range(min(15,math.ceil(Xtr.size()[0]/5000))):\n",
        "    Xsplit = Xtr[i*5000:(i+1)*5000]\n",
        "    Ysplit = Ytr[i*5000:(i+1)*5000]\n",
        "    savepath = path + \"/\" + str(i)\n",
        "    os.makedirs(savepath, exist_ok =True)\n",
        "    torch.save(Xsplit,(savepath+\"/X.pt\"))\n",
        "    torch.save(Ysplit,(savepath+\"/y.pt\"))"
      ]
    },
    {
      "cell_type": "code",
      "source": [
        "for i in range(6):\n",
        "  Xtr =  torch.load(\"../data/PMNIST/\" + str(i) + \"/x_train.bin\")\n",
        "  Ytr =  torch.load(\"../data/PMNIST/\" + str(i) + \"/y_train.bin\")\n",
        "  Xval = torch.load(\"../data/PMNIST/\" + str(i) + \"/x_valid.bin\")\n",
        "  Yval = torch.load(\"../data/PMNIST/\" + str(i) + \"/y_valid.bin\")\n",
        "  Xtr = torch.cat((Xtr,Xval), dim=0)\n",
        "  Ytr = torch.cat((Ytr,Yval), dim=0)\n",
        "\n",
        "  perm = torch.randperm(Xtr.size()[0])\n",
        "  Xtr = Xtr[perm]\n",
        "  Ytr = Ytr[perm]\n",
        "  path = \"../data/PMNIST/Online/\" + str(i) + \"/\"\n",
        "  os.makedirs(path, exist_ok =True)\n",
        "\n",
        "  ### Split the offline dataset into sets Z_i for online training (we don't use all resulting sets, often only the first 1-3 for a given task so we cap it to saving 15 sets per task)\n",
        "  for i in range(min(15,math.ceil(Xtr.size()[0]/5000))):\n",
        "    Xsplit = Xtr[i*5000:(i+1)*5000]\n",
        "    Ysplit = Ytr[i*5000:(i+1)*5000]\n",
        "    savepath = path + \"/\" + str(i)\n",
        "    os.makedirs(savepath, exist_ok =True)\n",
        "    torch.save(Xsplit,(savepath+\"/X.pt\"))\n",
        "    torch.save(Ysplit,(savepath+\"/y.pt\"))"
      ],
      "metadata": {
        "id": "G2o2cL0SeloK"
      },
      "execution_count": null,
      "outputs": []
    }
  ],
  "metadata": {
    "colab": {
      "provenance": []
    },
    "kernelspec": {
      "display_name": "Python 3",
      "name": "python3"
    },
    "language_info": {
      "name": "python"
    }
  },
  "nbformat": 4,
  "nbformat_minor": 0
}